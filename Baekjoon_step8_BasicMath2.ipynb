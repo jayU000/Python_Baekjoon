{
  "cells": [
    {
      "cell_type": "markdown",
      "metadata": {
        "id": "view-in-github",
        "colab_type": "text"
      },
      "source": [
        "<a href=\"https://colab.research.google.com/github/jayU000/Python_Baekjoon/blob/main/Baekjoon_step8_BasicMath2.ipynb\" target=\"_parent\"><img src=\"https://colab.research.google.com/assets/colab-badge.svg\" alt=\"Open In Colab\"/></a>"
      ]
    },
    {
      "cell_type": "code",
      "execution_count": null,
      "metadata": {
        "colab": {
          "base_uri": "https://localhost:8080/"
        },
        "id": "nljvCEV9RPKt",
        "outputId": "b29d3bb6-6900-4498-f183-11ba085c5c47"
      },
      "outputs": [
        {
          "name": "stdout",
          "output_type": "stream",
          "text": [
            "3\n",
            "2 4 7\n",
            "2\n"
          ]
        }
      ],
      "source": [
        "########################\n",
        "# 1978\n",
        "\n",
        "n = int(input())\n",
        "num = list(map(int, input().split(\" \")))\n",
        "cnt = 0\n",
        "\n",
        "for i in range(n) :\n",
        "  if 1 < num[i] < 4 :\n",
        "    cnt += 1\n",
        "  else :\n",
        "    for o in range(2, num[i]):\n",
        "      if num[i] % o == 0 :\n",
        "        break\n",
        "      elif o == num[i]-1 :\n",
        "        cnt += 1\n",
        "\n",
        "print(cnt) "
      ]
    },
    {
      "cell_type": "code",
      "execution_count": null,
      "metadata": {
        "colab": {
          "base_uri": "https://localhost:8080/"
        },
        "id": "gtG6AB3nUzwd",
        "outputId": "2a1477a0-d491-483c-e388-8f7150f7be45"
      },
      "outputs": [
        {
          "name": "stdout",
          "output_type": "stream",
          "text": [
            "64\n",
            "65\n",
            "-1\n"
          ]
        }
      ],
      "source": [
        "###############\n",
        "# 2581\n",
        "\n",
        "m = int(input())\n",
        "n = int(input())\n",
        "sosu = []\n",
        "\n",
        "for num in range(m, n+1) :\n",
        "  if 1 < num < 4 :\n",
        "    sosu.append(num)\n",
        "  else :\n",
        "    for o in range(2, num):\n",
        "      if num % o == 0 :\n",
        "        break\n",
        "      elif o == num-1 :\n",
        "        sosu.append(num)\n",
        "if len(sosu) != 0 :\n",
        "  print(sum(sosu))\n",
        "  print(sosu[0])\n",
        "else :\n",
        "  print(-1)"
      ]
    },
    {
      "cell_type": "code",
      "execution_count": null,
      "metadata": {
        "colab": {
          "base_uri": "https://localhost:8080/"
        },
        "id": "TqLyOCr2XEDW",
        "outputId": "bd1a199c-d655-4def-8463-f97383a93f35"
      },
      "outputs": [
        {
          "name": "stdout",
          "output_type": "stream",
          "text": [
            "72\n",
            "2\n",
            "2\n",
            "2\n",
            "3\n",
            "3\n",
            "\n"
          ]
        }
      ],
      "source": [
        "n = int(input())\n",
        "while 1 :\n",
        "  if n == 1 :\n",
        "    # print(\"\")\n",
        "    break\n",
        "  # elif 1 < n < 3 :\n",
        "  #   print(n)\n",
        "  else :\n",
        "    for i in range(2, n + 1) :\n",
        "      if n % i == 0 :\n",
        "        n = n // i\n",
        "        print(i)\n",
        "        break\n",
        "    continue"
      ]
    },
    {
      "cell_type": "code",
      "execution_count": null,
      "metadata": {
        "colab": {
          "base_uri": "https://localhost:8080/"
        },
        "id": "SdvJl09KZhDX",
        "outputId": "12cf2402-cbbd-4c1a-d4fe-1b444de63421"
      },
      "outputs": [
        {
          "name": "stdout",
          "output_type": "stream",
          "text": [
            "1 2\n",
            "2\n"
          ]
        }
      ],
      "source": [
        "###############\n",
        "# 1929\n",
        "\n",
        "m, n = map(int, input().split(\" \"))\n",
        "if m == 1 :\n",
        "  m = 2\n",
        "\n",
        "for num in range(m, n+1) :\n",
        "  if 2 <= num <= 3 :\n",
        "    print(num)\n",
        "  else :\n",
        "    for o in range(2, int(num ** 0.5)+1): # ** : 제곱 (계산기의 ^ 에 해당)\n",
        "      if num % o == 0:\n",
        "        break\n",
        "    else :\n",
        "        print(num)"
      ]
    },
    {
      "cell_type": "code",
      "execution_count": null,
      "metadata": {
        "id": "rIN11Z11YIe6"
      },
      "outputs": [],
      "source": [
        "#########################\n",
        "# 4948\n",
        "from math import sqrt\n",
        "\n",
        "while 1 : \n",
        "  n = int(input()) \n",
        "  cnt = 0 \n",
        "\n",
        "  if n == 0 : \n",
        "    break \n",
        "\n",
        "  for num in range(n + 1, 2 * n + 1) : \n",
        "    if num == 2 :\n",
        "      cnt += 1\n",
        "      continue\n",
        "    for o in range(2, int(sqrt(num) + 1)) : \n",
        "      if num % o == 0 : \n",
        "        break\n",
        "    else: \n",
        "      cnt += 1\n",
        "  print(cnt)"
      ]
    },
    {
      "cell_type": "code",
      "execution_count": null,
      "metadata": {
        "id": "0WFH5KJnoBZe"
      },
      "outputs": [],
      "source": [
        "while 1 : \n",
        "  n = int(input()) \n",
        "\n",
        "  if n == 0 : \n",
        "    break \n",
        "  elif 1 <= n <= 3:\n",
        "    print(1)\n",
        "    continue\n",
        "\n",
        "  cnt = 0\n",
        "\n",
        "  for i in range(n+1, 2*n) : \n",
        "    if i == 2 :\n",
        "      cnt += 1\n",
        "      continue\n",
        "    for j in range(2, int(i**0.5)+1) : \n",
        "      if i % j == 0 :  \n",
        "        cnt += 1\n",
        "        break\n",
        "  print(n-cnt)"
      ]
    },
    {
      "cell_type": "code",
      "execution_count": null,
      "metadata": {
        "colab": {
          "base_uri": "https://localhost:8080/"
        },
        "id": "uinVA-k-pQQe",
        "outputId": "de37e412-fe00-45e7-c14b-36e14dcd9c23"
      },
      "outputs": [
        {
          "name": "stdout",
          "output_type": "stream",
          "text": [
            "1\n",
            "1\n",
            "100000\n",
            "8392\n",
            "0\n"
          ]
        }
      ],
      "source": [
        "sosu = [2]\n",
        "for i in range(3, 246912):\n",
        "  for j in range(2, int(i**0.5)+1): \n",
        "    if i % j == 0:  \n",
        "      break\n",
        "  else:\n",
        "    sosu.append(i)\n",
        "\n",
        "while 1:\n",
        "  n = int(input()) \n",
        "  cnt = 0\n",
        "  if n == 0: \n",
        "    break\n",
        "\n",
        "  for s in sosu:\n",
        "    if n < s <= 2*n:\n",
        "      cnt += 1\n",
        "  print(cnt)"
      ]
    },
    {
      "cell_type": "code",
      "execution_count": 3,
      "metadata": {
        "colab": {
          "base_uri": "https://localhost:8080/"
        },
        "id": "YESy7bLrzv7O",
        "outputId": "e8759cba-a875-4106-9c1d-0983aae3f3f9"
      },
      "outputs": [
        {
          "output_type": "stream",
          "name": "stdout",
          "text": [
            "5\n",
            "1000\n",
            "491 509\n",
            "200\n",
            "97 103\n",
            "900\n",
            "443 457\n",
            "800\n",
            "379 421\n",
            "600\n",
            "293 307\n"
          ]
        }
      ],
      "source": [
        "###################\n",
        "# 9020\n",
        "\n",
        "t = int(input())\n",
        "def sosu(numb) :\n",
        "  for m in range(2, numb) :\n",
        "    if numb % m == 0 :\n",
        "      return 0\n",
        "      break\n",
        "  else :\n",
        "    return 1\n",
        "\n",
        "for i in range(t):\n",
        "  num = int(input())\n",
        "  x = y = num // 2\n",
        "  while 1 :\n",
        "    if sosu(x) == 1 and sosu(y) == 1:\n",
        "      break\n",
        "    else :\n",
        "      x += 1\n",
        "      y -= 1\n",
        "\n",
        "  print(y, x)\n",
        "\n",
        "\n",
        "\n"
      ]
    }
  ],
  "metadata": {
    "colab": {
      "collapsed_sections": [],
      "name": "Baekjoon_step8_BasicMath2.ipynb",
      "provenance": [],
      "authorship_tag": "ABX9TyOVYiICL7PwXWyIQc7bUctg",
      "include_colab_link": true
    },
    "kernelspec": {
      "display_name": "Python 3",
      "name": "python3"
    },
    "language_info": {
      "name": "python"
    }
  },
  "nbformat": 4,
  "nbformat_minor": 0
}