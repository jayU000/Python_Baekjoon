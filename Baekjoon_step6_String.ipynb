{
  "nbformat": 4,
  "nbformat_minor": 0,
  "metadata": {
    "colab": {
      "name": "Baekjoon_step6_String.ipynb",
      "provenance": [],
      "collapsed_sections": [],
      "authorship_tag": "ABX9TyOihjwWKseDb4vzWE8v7pGt",
      "include_colab_link": true
    },
    "kernelspec": {
      "name": "python3",
      "display_name": "Python 3"
    },
    "language_info": {
      "name": "python"
    }
  },
  "cells": [
    {
      "cell_type": "markdown",
      "metadata": {
        "id": "view-in-github",
        "colab_type": "text"
      },
      "source": [
        "<a href=\"https://colab.research.google.com/github/jayU000/Python_Baekjoon/blob/main/Baekjoon_step6_String.ipynb\" target=\"_parent\"><img src=\"https://colab.research.google.com/assets/colab-badge.svg\" alt=\"Open In Colab\"/></a>"
      ]
    },
    {
      "cell_type": "code",
      "execution_count": 2,
      "metadata": {
        "colab": {
          "base_uri": "https://localhost:8080/"
        },
        "id": "bhc8qgwZjpWH",
        "outputId": "471a8eb1-1968-46c6-b03b-58699da174f1"
      },
      "outputs": [
        {
          "output_type": "stream",
          "name": "stdout",
          "text": [
            "a\n",
            "97\n"
          ]
        }
      ],
      "source": [
        "##################\n",
        "# 11654\n",
        "\n",
        "# ord() : 문자의 아스키 코드값을 리턴하는 함수이다.\n",
        "# chr() : 아스키 코드값 입력으로 받아 그 코드에 해당하는 문자를 출력하는 함수이다.\n",
        "\n",
        "a = input()\n",
        "print(ord(a))\n",
        "\n",
        "# a\n",
        "# 97"
      ]
    },
    {
      "cell_type": "code",
      "source": [
        "print(ord(input()))\n",
        "\n",
        "# A\n",
        "# 65\n",
        "# Z\n",
        "# 90"
      ],
      "metadata": {
        "colab": {
          "base_uri": "https://localhost:8080/"
        },
        "id": "KPr7pG4_u3Zp",
        "outputId": "6ada09bc-290c-4267-df2c-cacaf14cd6b5"
      },
      "execution_count": 2,
      "outputs": [
        {
          "output_type": "stream",
          "name": "stdout",
          "text": [
            "Z\n",
            "90\n"
          ]
        }
      ]
    },
    {
      "cell_type": "code",
      "source": [
        "#######################\n",
        "# 11720\n",
        "\n",
        "n = int(input())\n",
        "num = list(map(int, input()))\n",
        "\n",
        "tot = 0\n",
        "for i in range(n):\n",
        "  tot += num[i]\n",
        "\n",
        "print(tot)"
      ],
      "metadata": {
        "colab": {
          "base_uri": "https://localhost:8080/"
        },
        "id": "JvN98RUWvSBW",
        "outputId": "8e12a617-d75b-4c3d-9ae9-1d1ff3fcd895"
      },
      "execution_count": 2,
      "outputs": [
        {
          "output_type": "stream",
          "name": "stdout",
          "text": [
            "5\n",
            "13245\n",
            "15\n"
          ]
        }
      ]
    },
    {
      "cell_type": "code",
      "source": [
        "############################\n",
        "# 10809\n",
        "\n",
        "s = input()\n",
        "alph = \"\"\n",
        "for i in range(97, 123) :\n",
        "  if chr(i) in s:\n",
        "    for n in range(len(s)):\n",
        "      if chr(i)==s[n]:\n",
        "        alph = alph + f\"%s \"%(n)\n",
        "  else :\n",
        "    alph = alph + \"-1 \"\n",
        "print(alph)\n",
        "\n",
        "# 오답..."
      ],
      "metadata": {
        "colab": {
          "base_uri": "https://localhost:8080/"
        },
        "id": "RB8BNlkPTfv6",
        "outputId": "95b4023d-4294-4767-b1de-6caf085a3fdd"
      },
      "execution_count": 18,
      "outputs": [
        {
          "output_type": "stream",
          "name": "stdout",
          "text": [
            "abdc\n",
            "0 1 3 2 -1 -1 -1 -1 -1 -1 -1 -1 -1 -1 -1 -1 -1 -1 -1 -1 -1 -1 -1 -1 -1 -1 \n"
          ]
        }
      ]
    },
    {
      "cell_type": "code",
      "source": [
        "s = input()\n",
        "alph = \"\"\n",
        "for i in range(97, 123) :\n",
        "  print(s.find(chr(i)))"
      ],
      "metadata": {
        "colab": {
          "base_uri": "https://localhost:8080/"
        },
        "id": "3lrXS3oOjwdT",
        "outputId": "7827cf3e-2c6a-403e-d40e-50af802a3e0c"
      },
      "execution_count": 14,
      "outputs": [
        {
          "output_type": "stream",
          "name": "stdout",
          "text": [
            "abdcd\n",
            "0\n",
            "1\n",
            "3\n",
            "2\n",
            "-1\n",
            "-1\n",
            "-1\n",
            "-1\n",
            "-1\n",
            "-1\n",
            "-1\n",
            "-1\n",
            "-1\n",
            "-1\n",
            "-1\n",
            "-1\n",
            "-1\n",
            "-1\n",
            "-1\n",
            "-1\n",
            "-1\n",
            "-1\n",
            "-1\n",
            "-1\n",
            "-1\n",
            "-1\n"
          ]
        }
      ]
    },
    {
      "cell_type": "code",
      "source": [
        "s = input()\n",
        "for i in range(97, 123) :\n",
        "  if chr(i) in s:\n",
        "    for n in range(len(s)):\n",
        "      if chr(i)==s[n]:\n",
        "        print(n)\n",
        "        break\n",
        "  else :\n",
        "    print(-1)"
      ],
      "metadata": {
        "colab": {
          "base_uri": "https://localhost:8080/"
        },
        "id": "ej9gQSsvkxDm",
        "outputId": "9eda66cd-5e74-40a6-b1db-ad4f4e544fd4"
      },
      "execution_count": 20,
      "outputs": [
        {
          "output_type": "stream",
          "name": "stdout",
          "text": [
            "aaaaaa\n",
            "0\n",
            "-1\n",
            "-1\n",
            "-1\n",
            "-1\n",
            "-1\n",
            "-1\n",
            "-1\n",
            "-1\n",
            "-1\n",
            "-1\n",
            "-1\n",
            "-1\n",
            "-1\n",
            "-1\n",
            "-1\n",
            "-1\n",
            "-1\n",
            "-1\n",
            "-1\n",
            "-1\n",
            "-1\n",
            "-1\n",
            "-1\n",
            "-1\n",
            "-1\n"
          ]
        }
      ]
    },
    {
      "cell_type": "code",
      "source": [
        "####################\n",
        "# 2675\n",
        "\n",
        "# t = int(input())\n",
        "# st = list(range(t))\n",
        "# for i in range(t) :\n",
        "#   r, s = input().split(\" \")\n",
        "#   for n in s :\n",
        "#     st[i] += n * int(r)\n",
        "#   print(st[i])\n",
        "\n",
        "t = int(input())\n",
        "for i in range(t) :\n",
        "  text = \"\"\n",
        "  r, s = input().split(\" \")\n",
        "  for n in s :\n",
        "    text += n * int(r)\n",
        "  print(text)\n"
      ],
      "metadata": {
        "colab": {
          "base_uri": "https://localhost:8080/"
        },
        "id": "Zk5pj6bKlVYl",
        "outputId": "fb5850f3-4554-4fb6-901a-8907f47660b2"
      },
      "execution_count": 26,
      "outputs": [
        {
          "output_type": "stream",
          "name": "stdout",
          "text": [
            "2\n",
            "2 ab\n",
            "aabb\n",
            "3 abc\n",
            "aaabbbccc\n"
          ]
        }
      ]
    },
    {
      "cell_type": "code",
      "source": [
        "##################\n",
        "# 1157\n",
        "\n",
        "s = input().upper()\n",
        "s_set = list(set(s))\n",
        "\n",
        "cnt_list = []\n",
        "for i in s_set :\n",
        "  cnt = s.count(i)\n",
        "  cnt_list.append(cnt)\n",
        "if cnt_list.count(max(cnt_list)) > 1 :\n",
        "  print(\"?\")\n",
        "else :\n",
        "  max_index = cnt_list.index(max(cnt_list))\n",
        "  print(s_set[max_index])\n"
      ],
      "metadata": {
        "colab": {
          "base_uri": "https://localhost:8080/"
        },
        "id": "-WM8-tHBxfl8",
        "outputId": "ee053735-f9ae-467b-8f81-26349fcf79bf"
      },
      "execution_count": 1,
      "outputs": [
        {
          "output_type": "stream",
          "name": "stdout",
          "text": [
            "small\n",
            "L\n"
          ]
        }
      ]
    },
    {
      "cell_type": "code",
      "source": [
        "###################\n",
        "# 1152\n",
        "\n",
        "word_list = list(input().split(\" \"))\n",
        "while \"\" in word_list :\n",
        "  word_list.remove(\"\")\n",
        " \n",
        "print(len(word_list))\n"
      ],
      "metadata": {
        "colab": {
          "base_uri": "https://localhost:8080/"
        },
        "id": "sOOEe7a6S7ma",
        "outputId": "425012fe-6f3b-421c-89ca-1a834d71a8d7"
      },
      "execution_count": 9,
      "outputs": [
        {
          "output_type": "stream",
          "name": "stdout",
          "text": [
            " a b c \n",
            "3\n"
          ]
        }
      ]
    },
    {
      "cell_type": "code",
      "source": [
        "######################\n",
        "# 2908\n",
        "\n",
        "num = list(map(int, input()[::-1].split(\" \")))\n",
        "print(max(num))\n"
      ],
      "metadata": {
        "colab": {
          "base_uri": "https://localhost:8080/"
        },
        "id": "5mrZiaImZCJk",
        "outputId": "f8ed1c18-dadf-4198-d1aa-69d90c715bd0"
      },
      "execution_count": 1,
      "outputs": [
        {
          "output_type": "stream",
          "name": "stdout",
          "text": [
            "123 456\n",
            "654\n"
          ]
        }
      ]
    },
    {
      "cell_type": "code",
      "source": [
        "##########################\n",
        "# 5622\n",
        "\n",
        "S = input()\n",
        "total = 0\n",
        "for i in S :\n",
        "  if ord(i) in range(65,68) :\n",
        "    total += 3\n",
        "  elif ord(i) < 71 : \n",
        "    total += 4\n",
        "  elif ord(i) < 74 : \n",
        "    total += 5\n",
        "  elif ord(i) < 77 : \n",
        "    total += 6\n",
        "  elif ord(i) < 80 : \n",
        "    total += 7\n",
        "  elif ord(i) < 84 : \n",
        "    total += 8\n",
        "  elif ord(i) < 87 : \n",
        "    total += 9\n",
        "  elif ord(i) < 91 : \n",
        "    total += 10\n",
        "    \n",
        "print(total)"
      ],
      "metadata": {
        "colab": {
          "base_uri": "https://localhost:8080/"
        },
        "id": "uJ7BO-2FOdW9",
        "outputId": "7701e6d7-b2ef-4a91-bfee-029f64f5160b"
      },
      "execution_count": 6,
      "outputs": [
        {
          "output_type": "stream",
          "name": "stdout",
          "text": [
            "WA\n",
            "13\n"
          ]
        }
      ]
    },
    {
      "cell_type": "code",
      "source": [
        "S = input()\n",
        "total = 0\n",
        "for i in S :\n",
        "  if ord(i) in range(65,80) :\n",
        "    total += int((ord(i)-56) // 3)\n",
        "  elif ord(i) < 84 : \n",
        "    total += 8\n",
        "  elif ord(i) < 87 : \n",
        "    total += 9\n",
        "  elif ord(i) < 91 : \n",
        "    total += 10\n",
        "\n",
        "print(total)"
      ],
      "metadata": {
        "colab": {
          "base_uri": "https://localhost:8080/"
        },
        "id": "Is8-K-S7XCmE",
        "outputId": "441bec9b-509c-4fcb-879a-cbe56d0bedb5"
      },
      "execution_count": 9,
      "outputs": [
        {
          "output_type": "stream",
          "name": "stdout",
          "text": [
            "WA\n",
            "13\n"
          ]
        }
      ]
    },
    {
      "cell_type": "code",
      "source": [
        "##############################\n",
        "# 2941\n",
        "\n",
        "S = input().split()\n",
        "print(len(S))\n",
        "for i in range(len(S)) :\n",
        "  print(len(S))\n",
        "  if S[i] == 'd' and S[i+1] == 'z' and S[i+2] == '=' :\n",
        "    S[i] = '*'\n",
        "    del (S[i+1], S[i+2])\n",
        "  elif S[i] == 'l' and S[i+1] == 'j' :\n",
        "    S[i] = '*'\n",
        "    del S[i+1]\n",
        "  elif  S[i] == 'n' and S[i+1] == 'j' :\n",
        "    S[i] = '*'\n",
        "    del S[i+1]\n",
        "  elif S[i] == 'c' and S[i+1] == '=' :\n",
        "    S[i] = '*'\n",
        "    del S[i+1]\n",
        "  elif S[i] == 's' and S[i+1] == '=' :\n",
        "    S[i] = '*'\n",
        "    S.remove(S[i+1])\n",
        "  elif S[i] == 'z' and S[i+1] == '=' :\n",
        "    S[i] = '*'\n",
        "    S.remove(S[i+1])\n",
        "  elif S[i] == 'c' and S[i+1] == '-' :\n",
        "    S[i] = '*'\n",
        "    S.remove(S[i+1])\n",
        "  elif S[i] == 'd' and S[i+1] == '-' :\n",
        "    S[i] = '*'\n",
        "    S.remove(S[i+1])\n",
        "\n",
        "print(len(S))"
      ],
      "metadata": {
        "colab": {
          "base_uri": "https://localhost:8080/"
        },
        "id": "YKVl98u2X8A1",
        "outputId": "9e9e8ada-58b9-4960-88b9-894bb0d1631a"
      },
      "execution_count": 22,
      "outputs": [
        {
          "output_type": "stream",
          "name": "stdout",
          "text": [
            "dz=njlj\n",
            "1\n",
            "1\n",
            "1\n"
          ]
        }
      ]
    },
    {
      "cell_type": "code",
      "source": [
        "croatia = ['c=', 'c-', 'dz=', 'd-', 'lj', 'nj', 's=', 'z=']\n",
        "word = input()\n",
        "\n",
        "for i in croatia :\n",
        "  word = word.replace(i, '*')  # input 변수와 동일한 이름의 변수\n",
        "print(len(word))"
      ],
      "metadata": {
        "id": "n2P7s_ef5suq"
      },
      "execution_count": null,
      "outputs": []
    },
    {
      "cell_type": "code",
      "source": [
        "####################\n",
        "# 1316\n",
        "\n",
        "n = int(input())\n",
        "\n",
        "group_word = 0\n",
        "for _ in range(n):\n",
        "    word = input()\n",
        "    error = 0\n",
        "    for index in range(len(word)-1):  # 인덱스 범위 생성 : 0부터 단어개수 -1까지 \n",
        "        if word[index] != word[index+1]:  # 연달은 두 문자가 다른 때,\n",
        "            new_word = word[index+1:]  # 현재글자 이후 문자열을 새로운 단어로 생성\n",
        "            if new_word.count(word[index]) > 0:  # 남은 문자열에서 현재글자가 있있다면\n",
        "                error += 1  # error에 1씩 증가.\n",
        "    if error == 0:  \n",
        "        group_word += 1  # error가 0이면 그룹단어\n",
        "print(group_word)\n"
      ],
      "metadata": {
        "id": "GrqR2UfVINtO"
      },
      "execution_count": null,
      "outputs": []
    }
  ]
}