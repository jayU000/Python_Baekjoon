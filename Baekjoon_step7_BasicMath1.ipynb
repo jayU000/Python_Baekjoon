{
  "nbformat": 4,
  "nbformat_minor": 0,
  "metadata": {
    "colab": {
      "name": "Baekjoon_step7_BasicMath1.ipynb",
      "provenance": [],
      "collapsed_sections": [],
      "authorship_tag": "ABX9TyMXqLkTA2LS5Ni2DduwQEZm",
      "include_colab_link": true
    },
    "kernelspec": {
      "name": "python3",
      "display_name": "Python 3"
    },
    "language_info": {
      "name": "python"
    }
  },
  "cells": [
    {
      "cell_type": "markdown",
      "metadata": {
        "id": "view-in-github",
        "colab_type": "text"
      },
      "source": [
        "<a href=\"https://colab.research.google.com/github/jayU000/Python_Baekjoon/blob/main/Baekjoon_step7_BasicMath1.ipynb\" target=\"_parent\"><img src=\"https://colab.research.google.com/assets/colab-badge.svg\" alt=\"Open In Colab\"/></a>"
      ]
    },
    {
      "cell_type": "code",
      "execution_count": 6,
      "metadata": {
        "colab": {
          "base_uri": "https://localhost:8080/"
        },
        "id": "As9mRPsdKozB",
        "outputId": "6711fb97-f794-4f7d-c719-d8c84fa68beb"
      },
      "outputs": [
        {
          "output_type": "stream",
          "name": "stdout",
          "text": [
            "100 50 60\n",
            "11\n"
          ]
        }
      ],
      "source": [
        "###############################\n",
        "# 1712\n",
        "\n",
        "a, b, c = map(int, input().split())\n",
        "if b >= c :\n",
        "  print(-1)\n",
        "else :\n",
        "  print(int(a//(c-b))+1)"
      ]
    },
    {
      "cell_type": "code",
      "source": [
        "################################\n",
        "# 2292\n",
        "\n",
        "n = int(input())-1\n",
        "\n",
        "for i in range(10000000000) :\n",
        "  n -= (6*i)\n",
        "  if n <= 0 :\n",
        "    print(i+1)\n",
        "    break"
      ],
      "metadata": {
        "colab": {
          "base_uri": "https://localhost:8080/"
        },
        "id": "0hHqaWR_Q0HU",
        "outputId": "2fb158aa-baae-4d1c-b0cf-a80d56a6eefb"
      },
      "execution_count": 25,
      "outputs": [
        {
          "output_type": "stream",
          "name": "stdout",
          "text": [
            "13\n",
            "3\n"
          ]
        }
      ]
    },
    {
      "cell_type": "code",
      "source": [
        "##################################\n",
        "# 1193\n",
        "num = int(input())\n",
        "cnt = 1\n",
        "child = 1\n",
        "mother = 1\n",
        "\n",
        "for n in range(2,1000000) :\n",
        "  if cnt == num :\n",
        "    break\n",
        "  elif child/mother > 1 and mother < n and child < n:\n",
        "    child += 1\n",
        "    cnt += 1\n",
        "    while cnt != num and 0 < mother <= n and 1 < child <= n:\n",
        "      mother += 1\n",
        "      child -= 1\n",
        "      cnt += 1\n",
        "  elif child/mother <= 1 and mother < n and child < n:\n",
        "    mother += 1\n",
        "    cnt += 1\n",
        "    while cnt != num and 1 < mother <= n and 0 < child <= n:\n",
        "      mother -= 1\n",
        "      child += 1\n",
        "      cnt += 1\n",
        "  else :\n",
        "    continue\n",
        "\n",
        "print(f\"{child}/{mother}\")"
      ],
      "metadata": {
        "colab": {
          "base_uri": "https://localhost:8080/"
        },
        "id": "Hp_eLq_vVnKM",
        "outputId": "f7decb48-5106-44af-835a-b8aa52fd5f5b"
      },
      "execution_count": 59,
      "outputs": [
        {
          "output_type": "stream",
          "name": "stdout",
          "text": [
            "8\n",
            "2/3\n"
          ]
        }
      ]
    },
    {
      "cell_type": "code",
      "source": [
        "X=int(input())\n",
        "\n",
        "line=1\n",
        "while X>line:\n",
        "    X-=line\n",
        "    line+=1\n",
        "    \n",
        "if line%2==0:\n",
        "    a=X\n",
        "    b=line-X+1\n",
        "else:\n",
        "    a=line-X+1\n",
        "    b=X\n",
        "    \n",
        "print(a, '/', b, sep='')\n"
      ],
      "metadata": {
        "colab": {
          "base_uri": "https://localhost:8080/"
        },
        "id": "jQOIvgkn2AjC",
        "outputId": "2dbcd675-bdd7-46ca-96d5-1edddafd6c08"
      },
      "execution_count": 1,
      "outputs": [
        {
          "output_type": "stream",
          "name": "stdout",
          "text": [
            "5\n",
            "2/2\n"
          ]
        }
      ]
    },
    {
      "cell_type": "code",
      "source": [
        "a, b, v = "
      ],
      "metadata": {
        "id": "lXoAhE6T5p9K"
      },
      "execution_count": null,
      "outputs": []
    }
  ]
}